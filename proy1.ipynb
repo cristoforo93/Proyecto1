{
 "cells": [
  {
   "attachments": {},
   "cell_type": "markdown",
   "metadata": {},
   "source": [
    "## (1) Carga de paquetes necesarios"
   ]
  },
  {
   "cell_type": "code",
   "execution_count": 1,
   "metadata": {},
   "outputs": [],
   "source": [
    "import numpy as np\n",
    "import pandas as pd"
   ]
  },
  {
   "attachments": {},
   "cell_type": "markdown",
   "metadata": {},
   "source": [
    "## (2) Carga del DataFrame y slicing de la información"
   ]
  },
  {
   "cell_type": "code",
   "execution_count": 2,
   "metadata": {},
   "outputs": [],
   "source": [
    "df = pd.DataFrame(np.load(\"proyecto_training_data.npy\"),\n",
    "                  columns=['SalePrice',\n",
    "                           'OverallQual',\n",
    "                           '1stFlrSF',\n",
    "                           'TotRmsAbvGrd',\n",
    "                           'YearBuilt',\n",
    "                           'LotFrontage'])"
   ]
  },
  {
   "cell_type": "code",
   "execution_count": 3,
   "metadata": {},
   "outputs": [],
   "source": [
    "entrenamiento = df.iloc[0:1168]\n",
    "validacion_pruebas = df.iloc[1168:1459]"
   ]
  },
  {
   "attachments": {},
   "cell_type": "markdown",
   "metadata": {},
   "source": [
    "## (3) Análisis exploratorio"
   ]
  },
  {
   "cell_type": "code",
   "execution_count": 8,
   "metadata": {},
   "outputs": [
    {
     "name": "stdout",
     "output_type": "stream",
     "text": [
      "SalePrice       180590.277397\n",
      "OverallQual          6.101027\n",
      "1stFlrSF          1156.323630\n",
      "TotRmsAbvGrd         6.485445\n",
      "YearBuilt         1971.451199\n",
      "LotFrontage         69.946985\n",
      "dtype: float64\n"
     ]
    }
   ],
   "source": [
    "# Cálculo de medias\n",
    "means = entrenamiento.mean()\n",
    "print(means)"
   ]
  },
  {
   "cell_type": "code",
   "execution_count": 9,
   "metadata": {},
   "outputs": [
    {
     "name": "stdout",
     "output_type": "stream",
     "text": [
      "SalePrice       755000.0\n",
      "OverallQual         10.0\n",
      "1stFlrSF          3228.0\n",
      "TotRmsAbvGrd        14.0\n",
      "YearBuilt         2010.0\n",
      "LotFrontage        313.0\n",
      "dtype: float64\n",
      "SalePrice       34900.0\n",
      "OverallQual         1.0\n",
      "1stFlrSF          334.0\n",
      "TotRmsAbvGrd        2.0\n",
      "YearBuilt        1875.0\n",
      "LotFrontage        21.0\n",
      "dtype: float64\n"
     ]
    }
   ],
   "source": [
    "# Cálculo de máximos y mínimos\n",
    "maximos = entrenamiento.max()\n",
    "minimos = entrenamiento.min()\n",
    "print(maximos)\n",
    "print(minimos)"
   ]
  },
  {
   "cell_type": "code",
   "execution_count": null,
   "metadata": {},
   "outputs": [],
   "source": [
    "# Cálculo del rango\n"
   ]
  },
  {
   "cell_type": "code",
   "execution_count": 10,
   "metadata": {},
   "outputs": [
    {
     "name": "stdout",
     "output_type": "stream",
     "text": [
      "SalePrice       78815.697902\n",
      "OverallQual         1.378025\n",
      "1stFlrSF          373.780374\n",
      "TotRmsAbvGrd        1.609141\n",
      "YearBuilt          29.951707\n",
      "LotFrontage        23.478161\n",
      "dtype: float64\n"
     ]
    }
   ],
   "source": [
    "# Cálculo de la desviación estándar\n",
    "de = entrenamiento.std()\n",
    "print(de)"
   ]
  }
 ],
 "metadata": {
  "kernelspec": {
   "display_name": "base",
   "language": "python",
   "name": "python3"
  },
  "language_info": {
   "codemirror_mode": {
    "name": "ipython",
    "version": 3
   },
   "file_extension": ".py",
   "mimetype": "text/x-python",
   "name": "python",
   "nbconvert_exporter": "python",
   "pygments_lexer": "ipython3",
   "version": "3.9.13"
  },
  "orig_nbformat": 4,
  "vscode": {
   "interpreter": {
    "hash": "357dc9d412174e4134ca7f44e5917fce776e4f51137837e377c3ee796a251b35"
   }
  }
 },
 "nbformat": 4,
 "nbformat_minor": 2
}
